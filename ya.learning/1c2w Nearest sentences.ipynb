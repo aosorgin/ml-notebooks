{
 "cells": [
  {
   "cell_type": "markdown",
   "metadata": {},
   "source": [
    "# Finding the nearest sentences about *cat*"
   ]
  },
  {
   "cell_type": "code",
   "execution_count": 1,
   "metadata": {},
   "outputs": [],
   "source": [
    "import numpy as np\n",
    "import re\n",
    "from scipy.spatial import distance"
   ]
  },
  {
   "cell_type": "markdown",
   "metadata": {},
   "source": [
    "### Reading sentences from file and place them to dict and list\n",
    "We use the following structure to store words:\n",
    "\n",
    "```struct Word {\n",
    "  Index int,\n",
    "  Count int\n",
    "}\n",
    "dict{\\<word\\>: @Word}```"
   ]
  },
  {
   "cell_type": "code",
   "execution_count": 2,
   "metadata": {},
   "outputs": [],
   "source": [
    "class Words:\n",
    "    def __init__(self):\n",
    "        self._words = dict()\n",
    "    \n",
    "    def add(self, word):\n",
    "        if word in self._words:\n",
    "            self._words[word]['count'] += 1\n",
    "        else:\n",
    "            self._words[word] = {'index': len(self._words), 'count': 1}\n",
    "    \n",
    "    def index(self, word):\n",
    "        if word in self._words:\n",
    "            return self._words[word]['index']\n",
    "        return None\n",
    "    \n",
    "    def count(self, word):\n",
    "        if word in self._words:\n",
    "            return self._words[word]['count']\n",
    "        return None\n",
    "    \n",
    "    def capacity(self):\n",
    "        return len(self._words)\n",
    "    \n",
    "    def print_words(self):\n",
    "        print self._words"
   ]
  },
  {
   "cell_type": "markdown",
   "metadata": {},
   "source": [
    "Reading sentances from file"
   ]
  },
  {
   "cell_type": "code",
   "execution_count": 3,
   "metadata": {},
   "outputs": [],
   "source": [
    "allWords = Words()\n",
    "listOfSentenceFeatures = []\n",
    "with open('data/1c2s_sentences.txt', 'r') as f:\n",
    "    for sentence in f.readlines():\n",
    "        sentenceWords = Words()\n",
    "        words = np.array([x.lower() for x in re.split('[^A-Za-z]', sentence.strip())])\n",
    "        words = words[words != '']\n",
    "        for word in words:\n",
    "            allWords.add(word)\n",
    "            sentenceWords.add(word)\n",
    "        sentenceFeatures = np.zeros(allWords.capacity())\n",
    "        for word in words:\n",
    "            sentenceFeatures[allWords.index(word)] = sentenceWords.count(word)\n",
    "        listOfSentenceFeatures.append(sentenceFeatures)"
   ]
  },
  {
   "cell_type": "markdown",
   "metadata": {},
   "source": [
    "Construct matrix of sentance features"
   ]
  },
  {
   "cell_type": "code",
   "execution_count": 4,
   "metadata": {},
   "outputs": [],
   "source": [
    "features = np.zeros((len(listOfSentenceFeatures), len(listOfSentenceFeatures[-1])))\n",
    "for enu, row in enumerate(listOfSentenceFeatures):\n",
    "    features[enu, :len(row)] += row"
   ]
  },
  {
   "cell_type": "markdown",
   "metadata": {},
   "source": [
    "### Calculating cosine distance for all sentences from the first one"
   ]
  },
  {
   "cell_type": "code",
   "execution_count": 5,
   "metadata": {},
   "outputs": [
    {
     "name": "stdout",
     "output_type": "stream",
     "text": [
      "[(6, 0.7327387580875756), (4, 0.7770887149698589), (21, 0.8250364469440588), (10, 0.8328165362273942), (12, 0.8396432548525454), (16, 0.8406361854220809), (20, 0.8427572744917122), (2, 0.8644738145642124), (13, 0.8703592552895671), (14, 0.8740118423302576), (11, 0.8804771390665607), (8, 0.8842724875284311), (19, 0.8885443574849294), (3, 0.8951715163278082), (9, 0.9055088817476932), (7, 0.9258750683338899), (5, 0.9402385695332803), (18, 0.9442721787424647), (1, 0.9527544408738466), (17, 0.956644501523794)]\n"
     ]
    }
   ],
   "source": [
    "distances = dict()\n",
    "for num, row in enumerate(features[1:]):\n",
    "    distances[distance.cosine(features[0], row)] = num + 1\n",
    "print [(distances[key], key) for key in sorted(distances.keys())]"
   ]
  },
  {
   "cell_type": "markdown",
   "metadata": {},
   "source": [
    "### Writing results to file"
   ]
  },
  {
   "cell_type": "code",
   "execution_count": 6,
   "metadata": {},
   "outputs": [],
   "source": [
    "with open('data/1c2s_result1.txt', 'w') as f:\n",
    "    f.write(' '.join((str(distances[key]) for key in sorted(distances.keys()))))"
   ]
  },
  {
   "cell_type": "code",
   "execution_count": 10,
   "metadata": {},
   "outputs": [
    {
     "name": "stdout",
     "output_type": "stream",
     "text": [
      "6 4 21 10 12 16 20 2 13 14 11 8 19 3 9 7 5 18 1 17"
     ]
    }
   ],
   "source": [
    "!cat data/1c2s_result1.txt"
   ]
  },
  {
   "cell_type": "code",
   "execution_count": 9,
   "metadata": {},
   "outputs": [
    {
     "name": "stdout",
     "output_type": "stream",
     "text": [
      "In comparison to dogs, cats have not undergone major changes during the domestication process.\r\n",
      "As cat simply catenates streams of bytes, it can be also used to concatenate binary files, where it will just concatenate sequence of bytes.\r\n",
      "A common interactive use of cat for a single file is to output the content of a file to standard output.\r\n",
      "Cats can hear sounds too faint or too high in frequency for human ears, such as those made by mice and other small animals.\r\n",
      "In one, people deliberately tamed cats in a process of artificial selection, as they were useful predators of vermin.\r\n",
      "The domesticated cat and its closest wild ancestor are both diploid organisms that possess 38 chromosomes and roughly 20,000 genes.\r\n",
      "Domestic cats are similar in size to the other members of the genus Felis, typically weighing between 4 and 5 kg (8.8 and 11.0 lb).\r\n",
      "However, if the output is piped or redirected, cat is unnecessary.\r\n",
      "cat with one named file is safer where human error is a concern - one wrong use of the default redirection symbol \">\" instead of \"<\" (often adjacent on keyboards) may permanently delete the file you were just needing to read.\r\n",
      "In terms of legibility, a sequence of commands starting with cat and connected by pipes has a clear left-to-right flow of information.\r\n",
      "Cat command is one of the basic commands that you learned when you started in the Unix / Linux world.\r\n",
      "Using cat command, the lines received from stdin can be redirected to a new file using redirection symbols.\r\n",
      "When you type simply cat command without any arguments, it just receives the stdin content and displays it in the stdout.\r\n",
      "Leopard was released on October 26, 2007 as the successor of Tiger (version 10.4), and is available in two editions.\r\n",
      "According to Apple, Leopard contains over 300 changes and enhancements over its predecessor, Mac OS X Tiger.\r\n",
      "As of Mid 2010, some Apple computers have firmware factory installed which will no longer allow installation of Mac OS X Leopard.\r\n",
      "Since Apple moved to using Intel processors in their computers, the OSx86 community has developed and now also allows Mac OS X Tiger and later releases to be installed on non-Apple x86-based computers.\r\n",
      "OS X Mountain Lion was released on July 25, 2012 for purchase and download through Apple's Mac App Store, as part of a switch to releasing OS X versions online and every year.\r\n",
      "Apple has released a small patch for the three most recent versions of Safari running on OS X Yosemite, Mavericks, and Mountain Lion.\r\n",
      "The Mountain Lion release marks the second time Apple has offered an incremental upgrade, rather than releasing a new cat entirely.\r\n",
      "Mac OS X Mountain Lion installs in place, so you won't need to create a separate disk or run the installation off an external drive.\r\n",
      "The fifth major update to Mac OS X, Leopard, contains such a mountain of features - more than 300 by Apple's count.\r\n"
     ]
    }
   ],
   "source": [
    "!cat data/1c2s_sentences.txt"
   ]
  },
  {
   "cell_type": "code",
   "execution_count": null,
   "metadata": {},
   "outputs": [],
   "source": []
  }
 ],
 "metadata": {
  "kernelspec": {
   "display_name": "Python 2",
   "language": "python",
   "name": "python2"
  },
  "language_info": {
   "codemirror_mode": {
    "name": "ipython",
    "version": 2
   },
   "file_extension": ".py",
   "mimetype": "text/x-python",
   "name": "python",
   "nbconvert_exporter": "python",
   "pygments_lexer": "ipython2",
   "version": "2.7.15"
  }
 },
 "nbformat": 4,
 "nbformat_minor": 2
}
